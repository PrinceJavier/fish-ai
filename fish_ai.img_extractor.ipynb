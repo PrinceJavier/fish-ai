{
 "cells": [
  {
   "cell_type": "markdown",
   "metadata": {},
   "source": [
    "# Fish AI Image Extractor"
   ]
  },
  {
   "cell_type": "markdown",
   "metadata": {},
   "source": [
    "## Scrape from Google"
   ]
  },
  {
   "cell_type": "code",
   "execution_count": 8,
   "metadata": {},
   "outputs": [],
   "source": [
    "import os\n",
    "import urllib.request as ulib\n",
    "from bs4 import BeautifulSoup as Soup\n",
    "import json"
   ]
  },
  {
   "cell_type": "code",
   "execution_count": null,
   "metadata": {},
   "outputs": [],
   "source": []
  },
  {
   "cell_type": "code",
   "execution_count": null,
   "metadata": {},
   "outputs": [],
   "source": []
  },
  {
   "cell_type": "markdown",
   "metadata": {},
   "source": [
    "## Extract Training Images from Videos"
   ]
  },
  {
   "cell_type": "code",
   "execution_count": 1,
   "metadata": {},
   "outputs": [],
   "source": [
    "import cv2\n",
    "import glob"
   ]
  },
  {
   "cell_type": "code",
   "execution_count": 2,
   "metadata": {},
   "outputs": [],
   "source": [
    "vid_name = 'fish_vid_01'\n",
    "img_name = 'fish_vid_01'"
   ]
  },
  {
   "cell_type": "code",
   "execution_count": 3,
   "metadata": {},
   "outputs": [
    {
     "name": "stdout",
     "output_type": "stream",
     "text": [
      "415 311 104\n"
     ]
    }
   ],
   "source": [
    "# Opens the Video file\n",
    "source = 'media/'\n",
    "destination = 'training/images/'\n",
    "cap = cv2.VideoCapture(f'{source}{vid_name}.mp4')\n",
    "\n",
    "# count number of frames\n",
    "frames_total = int(cap.get(cv2.CAP_PROP_FRAME_COUNT))\n",
    "frames_train =  int(frames_total * 0.75)\n",
    "frames_test = frames_total - frames_train\n",
    "\n",
    "print(frames_total, frames_train, frames_test)"
   ]
  },
  {
   "cell_type": "code",
   "execution_count": 4,
   "metadata": {},
   "outputs": [],
   "source": [
    "# make training images (every 5 seconds)\n",
    "\n",
    "for i in range(frames_train):\n",
    "    ret, frame = cap.read()\n",
    "    if ret == False:\n",
    "        break\n",
    "    \n",
    "    if i % 5 == 0:\n",
    "        cv2.imwrite(destination+img_name+'_'+str(i).zfill(4)+'.jpg', frame)\n",
    " \n",
    "cap.release()\n",
    "cv2.destroyAllWindows()"
   ]
  },
  {
   "cell_type": "markdown",
   "metadata": {},
   "source": [
    "## Make Test Video"
   ]
  },
  {
   "cell_type": "code",
   "execution_count": 7,
   "metadata": {},
   "outputs": [],
   "source": [
    "# Saves the frames to turn to video\n",
    "source = 'media/'\n",
    "destination = 'test/images/'\n",
    "cap = cv2.VideoCapture(f'{source}{vid_name}.mp4')\n",
    "\n",
    "\n",
    "for i in range(frames_total):\n",
    "    ret, frame = cap.read()\n",
    "    if ret == False:\n",
    "        break\n",
    "    if i > frames_train:\n",
    "        cv2.imwrite(destination+img_name+'_'+str(i).zfill(4)+'.jpg', frame)\n",
    " \n",
    "cap.release()\n",
    "cv2.destroyAllWindows()"
   ]
  },
  {
   "cell_type": "code",
   "execution_count": 23,
   "metadata": {},
   "outputs": [],
   "source": [
    "source = 'test/images/*'\n",
    "destination = 'test/videos/'\n",
    "vid_name_test = img_name+'_test'\n",
    "\n",
    "img_array = []\n",
    "for filename in sorted(glob.glob(source)):\n",
    "    img = cv2.imread(filename)\n",
    "    height, width, layers = img.shape\n",
    "    size = (width,height)\n",
    "    img_array.append(img)\n",
    " \n",
    "fourcc = cv2.VideoWriter_fourcc(*'MP4V')\n",
    "out = cv2.VideoWriter(f'{destination}{vid_name_test}.mp4', fourcc, 15.0, size)\n",
    " \n",
    "for i in range(len(img_array)):\n",
    "    out.write(img_array[i])\n",
    "out.release()"
   ]
  },
  {
   "cell_type": "code",
   "execution_count": null,
   "metadata": {},
   "outputs": [],
   "source": []
  }
 ],
 "metadata": {
  "kernelspec": {
   "display_name": "Python 3",
   "language": "python",
   "name": "python3"
  },
  "language_info": {
   "codemirror_mode": {
    "name": "ipython",
    "version": 3
   },
   "file_extension": ".py",
   "mimetype": "text/x-python",
   "name": "python",
   "nbconvert_exporter": "python",
   "pygments_lexer": "ipython3",
   "version": "3.6.6"
  }
 },
 "nbformat": 4,
 "nbformat_minor": 2
}
