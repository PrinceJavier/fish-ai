{
 "cells": [
  {
   "cell_type": "markdown",
   "metadata": {},
   "source": [
    "# Fish AI Image Extractor"
   ]
  },
  {
   "cell_type": "markdown",
   "metadata": {},
   "source": [
    "## Scrape from Google"
   ]
  },
  {
   "cell_type": "code",
   "execution_count": 1,
   "metadata": {
    "ExecuteTime": {
     "end_time": "2019-09-22T12:57:45.861491Z",
     "start_time": "2019-09-22T12:57:45.140745Z"
    }
   },
   "outputs": [],
   "source": [
    "import os\n",
    "import urllib.request as ulib\n",
    "from bs4 import BeautifulSoup as Soup\n",
    "import json"
   ]
  },
  {
   "cell_type": "code",
   "execution_count": null,
   "metadata": {},
   "outputs": [],
   "source": []
  },
  {
   "cell_type": "code",
   "execution_count": null,
   "metadata": {},
   "outputs": [],
   "source": []
  },
  {
   "cell_type": "markdown",
   "metadata": {},
   "source": [
    "## Extract Training Images from Videos"
   ]
  },
  {
   "cell_type": "code",
   "execution_count": 2,
   "metadata": {
    "ExecuteTime": {
     "end_time": "2019-09-22T12:57:49.485980Z",
     "start_time": "2019-09-22T12:57:47.106934Z"
    }
   },
   "outputs": [],
   "source": [
    "import cv2\n",
    "import glob"
   ]
  },
  {
   "cell_type": "code",
   "execution_count": 3,
   "metadata": {
    "ExecuteTime": {
     "end_time": "2019-09-22T12:57:55.885881Z",
     "start_time": "2019-09-22T12:57:55.882331Z"
    }
   },
   "outputs": [],
   "source": [
    "vid_name = 'fish_vid_03'\n",
    "img_name = 'fish_vid_03'"
   ]
  },
  {
   "cell_type": "code",
   "execution_count": 4,
   "metadata": {
    "ExecuteTime": {
     "end_time": "2019-09-22T12:57:59.220476Z",
     "start_time": "2019-09-22T12:57:57.889279Z"
    }
   },
   "outputs": [
    {
     "name": "stdout",
     "output_type": "stream",
     "text": [
      "466 349 117\n"
     ]
    }
   ],
   "source": [
    "# Opens the Video file\n",
    "source = 'media/'\n",
    "destination = 'training/images/'\n",
    "cap = cv2.VideoCapture(f'{source}{vid_name}.mp4')\n",
    "\n",
    "# count number of frames\n",
    "frames_total = int(cap.get(cv2.CAP_PROP_FRAME_COUNT))\n",
    "frames_train =  int(frames_total * 0.75)\n",
    "frames_test = frames_total - frames_train\n",
    "\n",
    "print(frames_total, frames_train, frames_test)"
   ]
  },
  {
   "cell_type": "code",
   "execution_count": 5,
   "metadata": {
    "ExecuteTime": {
     "end_time": "2019-09-22T12:58:25.345467Z",
     "start_time": "2019-09-22T12:58:12.034752Z"
    }
   },
   "outputs": [],
   "source": [
    "# make training images (every 5 seconds)\n",
    "\n",
    "for i in range(frames_train):\n",
    "    ret, frame = cap.read()\n",
    "    if ret == False:\n",
    "        break\n",
    "    \n",
    "    if i % 2 == 0:\n",
    "        cv2.imwrite(destination+img_name+'_'+str(i).zfill(4)+'.jpg', frame)\n",
    " \n",
    "cap.release()\n",
    "cv2.destroyAllWindows()"
   ]
  },
  {
   "cell_type": "markdown",
   "metadata": {},
   "source": [
    "## Make Test Video"
   ]
  },
  {
   "cell_type": "code",
   "execution_count": 6,
   "metadata": {
    "ExecuteTime": {
     "end_time": "2019-09-22T12:58:52.031702Z",
     "start_time": "2019-09-22T12:58:40.569991Z"
    }
   },
   "outputs": [],
   "source": [
    "# Saves the frames to turn to video\n",
    "source = 'media/'\n",
    "destination = 'test/images/'\n",
    "cap = cv2.VideoCapture(f'{source}{vid_name}.mp4')\n",
    "\n",
    "\n",
    "for i in range(frames_total):\n",
    "    ret, frame = cap.read()\n",
    "    if ret == False:\n",
    "        break\n",
    "    if i > frames_train:\n",
    "        cv2.imwrite(destination+img_name+'_'+str(i).zfill(4)+'.jpg', frame)\n",
    " \n",
    "cap.release()\n",
    "cv2.destroyAllWindows()"
   ]
  },
  {
   "cell_type": "code",
   "execution_count": 9,
   "metadata": {
    "ExecuteTime": {
     "end_time": "2019-09-22T12:59:45.214577Z",
     "start_time": "2019-09-22T12:59:37.142502Z"
    }
   },
   "outputs": [],
   "source": [
    "source = f'test/images/{vid_name}*.jpg'\n",
    "destination = 'test/videos/'\n",
    "vid_name_test = img_name+'_test'\n",
    "\n",
    "img_array = []\n",
    "for filename in sorted(glob.glob(source)):\n",
    "    img = cv2.imread(filename)\n",
    "    height, width, layers = img.shape\n",
    "    size = (width,height)\n",
    "    img_array.append(img)\n",
    " \n",
    "fourcc = cv2.VideoWriter_fourcc(*'MP4V')\n",
    "out = cv2.VideoWriter(f'{destination}{vid_name_test}.mp4', fourcc, 15.0, size)\n",
    " \n",
    "for i in range(len(img_array)):\n",
    "    out.write(img_array[i])\n",
    "out.release()"
   ]
  },
  {
   "cell_type": "code",
   "execution_count": null,
   "metadata": {},
   "outputs": [],
   "source": []
  }
 ],
 "metadata": {
  "hide_input": false,
  "kernelspec": {
   "display_name": "Python [default]",
   "language": "python",
   "name": "python3"
  },
  "language_info": {
   "codemirror_mode": {
    "name": "ipython",
    "version": 3
   },
   "file_extension": ".py",
   "mimetype": "text/x-python",
   "name": "python",
   "nbconvert_exporter": "python",
   "pygments_lexer": "ipython3",
   "version": "3.6.4"
  },
  "latex_envs": {
   "LaTeX_envs_menu_present": true,
   "autoclose": false,
   "autocomplete": true,
   "bibliofile": "biblio.bib",
   "cite_by": "apalike",
   "current_citInitial": 1,
   "eqLabelWithNumbers": true,
   "eqNumInitial": 1,
   "hotkeys": {
    "equation": "Ctrl-E",
    "itemize": "Ctrl-I"
   },
   "labels_anchors": false,
   "latex_user_defs": false,
   "report_style_numbering": false,
   "user_envs_cfg": false
  },
  "toc": {
   "base_numbering": 1,
   "nav_menu": {},
   "number_sections": true,
   "sideBar": true,
   "skip_h1_title": false,
   "title_cell": "Table of Contents",
   "title_sidebar": "Contents",
   "toc_cell": false,
   "toc_position": {},
   "toc_section_display": true,
   "toc_window_display": false
  }
 },
 "nbformat": 4,
 "nbformat_minor": 2
}
