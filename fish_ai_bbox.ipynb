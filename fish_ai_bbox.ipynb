{
 "cells": [
  {
   "cell_type": "markdown",
   "metadata": {},
   "source": [
    "# Fish AI Image Annotation Bounding Box"
   ]
  },
  {
   "cell_type": "code",
   "execution_count": null,
   "metadata": {},
   "outputs": [],
   "source": [
    "import os\n",
    "import cv2\n",
    "\n",
    "import matplotlib.pyplot as plt\n",
    "from matplotlib.widgets import RectangleSelector\n",
    "\n",
    "from fish_ai_generate_xml import write_xml"
   ]
  },
  {
   "cell_type": "code",
   "execution_count": null,
   "metadata": {},
   "outputs": [],
   "source": [
    "# global constants\n",
    "\n",
    "img = None\n",
    "tl_list = []\n",
    "br_list = []\n",
    "object_list = []\n",
    "\n",
    "# file dir\n",
    "\n",
    "image_folder = 'training/images'\n",
    "savedir = 'training/annotations'\n",
    "obj = 'butterflyfish'"
   ]
  },
  {
   "cell_type": "code",
   "execution_count": null,
   "metadata": {},
   "outputs": [],
   "source": [
    "def line_select_callback(clk, rls):\n",
    "    global tl_list\n",
    "    global br_list\n",
    "    \n",
    "    tl_list.append((int(clk.xdata), int(clk.ydata)))\n",
    "    br_list.append((int(rls.xdata), int(rls.ydata)))\n",
    "    object_list.append(obj)"
   ]
  },
  {
   "cell_type": "code",
   "execution_count": null,
   "metadata": {},
   "outputs": [],
   "source": [
    "def toggle_selector(event):\n",
    "    toggle_selector.RS.set_active(True)"
   ]
  },
  {
   "cell_type": "code",
   "execution_count": null,
   "metadata": {},
   "outputs": [],
   "source": [
    "def onkeypress(event):\n",
    "    global object_list\n",
    "    global tl_list\n",
    "    global br_list\n",
    "    global img\n",
    "    \n",
    "    if event.key == 'q':\n",
    "        write_xml(image_folder, img, object_list, tl_list, br_list, savedir)\n",
    "        tl_list = []\n",
    "        br_list = []\n",
    "        object_list = []\n",
    "        img = None\n",
    "        "
   ]
  },
  {
   "cell_type": "code",
   "execution_count": null,
   "metadata": {},
   "outputs": [],
   "source": [
    "if __name__ == '__main__':\n",
    "    for n, image_file in enumerate(os.scandir(image_folder)):\n",
    "        img = image_file\n",
    "        fig, ax = plt.subplots(1)\n",
    "        image = cv2.imread(image_file.path)\n",
    "        image = cv2.cvtColor(image, cv2.COLOR_BGR2RGB)\n",
    "        ax.imshow(image)\n",
    "        \n",
    "        toggle_selector.RS = RectangleSelector(\n",
    "            ax, line_select_callback,\n",
    "            drawtype='box', useblit=True,\n",
    "            button=[1], minspanx=5, minspany=5,\n",
    "            spancoords='pixels', interactive=True\n",
    "        )\n",
    "        \n",
    "        bbox = plt.connect('key_press_event', toggle_selector)\n",
    "        key = plt.connect('key_press_event', onkeypress)\n",
    "        plt.show()\n",
    "        plt.close(fig)"
   ]
  },
  {
   "cell_type": "code",
   "execution_count": null,
   "metadata": {},
   "outputs": [],
   "source": []
  }
 ],
 "metadata": {
  "kernelspec": {
   "display_name": "Python 3",
   "language": "python",
   "name": "python3"
  },
  "language_info": {
   "codemirror_mode": {
    "name": "ipython",
    "version": 3
   },
   "file_extension": ".py",
   "mimetype": "text/x-python",
   "name": "python",
   "nbconvert_exporter": "python",
   "pygments_lexer": "ipython3",
   "version": "3.6.6"
  }
 },
 "nbformat": 4,
 "nbformat_minor": 2
}
