{
 "cells": [
  {
   "cell_type": "markdown",
   "metadata": {},
   "source": [
    "# Fish AI Image Annotation XML Writer"
   ]
  },
  {
   "cell_type": "code",
   "execution_count": 3,
   "metadata": {},
   "outputs": [],
   "source": [
    "from lxml import etree\n",
    "import xml.etree.cElementTree as ET\n",
    "import os\n",
    "import cv2"
   ]
  },
  {
   "cell_type": "code",
   "execution_count": 4,
   "metadata": {},
   "outputs": [],
   "source": [
    "def write_xml(folder, img, objects, tl, br, savedir):\n",
    "    if not os.path.isdir(savedir):\n",
    "        os.mkdir(savedir)\n",
    "        \n",
    "    image = cv2.imread(img.path)\n",
    "    height, width, depth = image.shape\n",
    "    \n",
    "    annotation = ET.Element('annotation')\n",
    "    ET.SubElement(annotation, 'folder').text = folder\n",
    "    ET.SubElement(annotation, 'filename').text = img.name\n",
    "    ET.SubElement(annotation, 'segmented').text = '0'\n",
    "    \n",
    "    size = ET.SubElement(annotation, 'size')\n",
    "    ET.SubElement(size, 'width').text = str(width)\n",
    "    ET.SubElement(size, 'height').text = str(height)\n",
    "    ET.SubElement(size, 'depth').text = str(depth)\n",
    "    \n",
    "    for obj, topl, botr in zip(objects, tl, br):\n",
    "        ob = ET.SubElement(annotation, 'object')\n",
    "        ET.SubElement(ob, 'name').text = obj\n",
    "        ET.SubElement(ob, 'pose').text = 'Unspecified'\n",
    "        ET.SubElement(ob, 'truncated').text = '0'\n",
    "        ET.SubElement(ob, 'difficult').text = '0'\n",
    "        ET.SubElement(ob, 'pose').text = 'Unspecified'\n",
    "        bbox = ET.SubElement(ob, 'bndbox')\n",
    "        ET.SubElement(bbox, 'xmin').text = str(topl[0])\n",
    "        ET.SubElement(bbox, 'ymin').text = str(topl[1])\n",
    "        ET.SubElement(bbox, 'xmax').text = str(botr[0])\n",
    "        ET.SubElement(bbox, 'ymax').text = str(botr[1])\n",
    "        \n",
    "\n",
    "    xml_str = ET.tostring(annotation)\n",
    "    root = etree.fromstring(xml_str)\n",
    "    xml_str = etree.tostring(root, pretty_print=True)\n",
    "    \n",
    "    save_path = os.path.join(savedir, img.name.replace('jpg', 'xml'))\n",
    "    \n",
    "    with open(save_path, 'wb') as temp_xml:\n",
    "        temp_xml.write(xml_str)\n",
    "        "
   ]
  },
  {
   "cell_type": "code",
   "execution_count": 5,
   "metadata": {},
   "outputs": [],
   "source": [
    "# if __name__ == '__main__':\n",
    "    \n",
    "#     folder = 'images'\n",
    "#     img = [im for im in os.scandir('training/images/')if '0001' in im.name][0]\n",
    "#     objects = ['fishA']\n",
    "#     tl = [(10, 10)]\n",
    "#     br = [(100, 100)]\n",
    "#     savedir='training/annotations/'\n",
    "#     write_xml(folder, img, objects, tl, br, savedir)"
   ]
  },
  {
   "cell_type": "code",
   "execution_count": null,
   "metadata": {},
   "outputs": [],
   "source": []
  },
  {
   "cell_type": "code",
   "execution_count": null,
   "metadata": {},
   "outputs": [],
   "source": []
  }
 ],
 "metadata": {
  "kernelspec": {
   "display_name": "Python 3",
   "language": "python",
   "name": "python3"
  }
 },
 "nbformat": 4,
 "nbformat_minor": 2
}
